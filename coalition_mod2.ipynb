{
 "cells": [
  {
   "cell_type": "code",
   "execution_count": 25,
   "metadata": {},
   "outputs": [
    {
     "name": "stdout",
     "output_type": "stream",
     "text": [
      "Enter the path of the image:school_cipher.png\n",
      "Enter decryption key:lalap@189\n",
      "Hello there! I'm currently on my internship period\n"
     ]
    }
   ],
   "source": [
    "from PIL import Image\n",
    "#from itertools import izip\n",
    "import hashlib\n",
    "import base64\n",
    "\n",
    "from Crypto import Random\n",
    "from Crypto.Cipher import AES\n",
    "\n",
    "#The get_pixel_pairs function takes in our pixel list and returns the pairs back; \n",
    "#as each message character was split over two pixels, this makes extraction easier. \n",
    "#The other helper function get_LSB will take in an R, G, B, or A value and \n",
    "#use a bit mask to get the LSB value and return it in a string format\n",
    "\n",
    "def get_pixel_pairs(iterable):\n",
    "    a = iter(iterable)\n",
    "    return zip(a, a)\n",
    "\n",
    "\n",
    "def get_LSB(value):\n",
    "    if value & 1 == 0:\n",
    "        return '0'\n",
    "    else:\n",
    "        return '1'\n",
    "#carrier is the input image\n",
    "def extract_message(carrier):\n",
    "    c_image = Image.open(carrier)\n",
    "    pixel_list = list(c_image.getdata())\n",
    "    message = \"\"\n",
    "\n",
    "    for pix1, pix2 in get_pixel_pairs(pixel_list):\n",
    "        #The next part of code that we will create is a string variable that will hold our binary string. \n",
    "        #Python knows that it'll be the binary representation of a string by the 0b prefix.\n",
    "        #We then iterate over the RGBA values in each pixel (pix1 and pix2) and pass that value \n",
    "        #to our helper function, get_LSB, the value that's returned is appended onto our binary string:\n",
    "        message_byte = \"0b\"\n",
    "        for p in pix1:\n",
    "            message_byte += get_LSB(p)\n",
    "\n",
    "        for p in pix2:\n",
    "            message_byte += get_LSB(p)\n",
    "\n",
    "        if message_byte == \"0b00000000\":\n",
    "            break\n",
    "\n",
    "        message += chr(int(message_byte,2))\n",
    "    return message\n",
    "\n",
    "def unpad(s):\n",
    "    return s[0:-s[-1]]\n",
    "#This is same as that of encryption\n",
    "class AESCipher:\n",
    "\n",
    "    def __init__( self, key ):\n",
    "        self.bs = 32\n",
    "        self.key = hashlib.sha256(key.encode()).digest()\n",
    "\n",
    "    def decrypt( self, enc ):\n",
    "        enc = base64.b64decode(enc)\n",
    "        iv = enc[:16]\n",
    "        cipher = AES.new(self.key, AES.MODE_CBC, iv )\n",
    "        return unpad(cipher.decrypt( enc[16:] ))\n",
    "\n",
    "\n",
    "def main():\n",
    "    img_path = input(\"Enter the path of the image:\")\n",
    "    decryp_key = input(\"Enter decryption key:\")\n",
    "    try:\n",
    "        cipher = AESCipher(decryp_key)#creating an instance for AESCipher\n",
    "        encryp_msg = extract_message(img_path)#Extracts the encrypted hidden message from the image in the form of string\n",
    "        encry = bytes(encryp_msg[2:len(encryp_msg)-1],'utf-8')#converting string to bytes\n",
    "        decrypted = cipher.decrypt(encry)#Decrypting the encrypted message using dcrypt() function\n",
    "        decr_str = decrypted.decode(\"utf-8\")#decoding it into string\n",
    "        print(decr_str)\n",
    "    except:\n",
    "        print(\"Please check your entries again\")\n",
    "    \n",
    "#Interpretation starts here    \n",
    "main()"
   ]
  },
  {
   "cell_type": "code",
   "execution_count": null,
   "metadata": {},
   "outputs": [],
   "source": []
  }
 ],
 "metadata": {
  "kernelspec": {
   "display_name": "Python 3",
   "language": "python",
   "name": "python3"
  },
  "language_info": {
   "codemirror_mode": {
    "name": "ipython",
    "version": 3
   },
   "file_extension": ".py",
   "mimetype": "text/x-python",
   "name": "python",
   "nbconvert_exporter": "python",
   "pygments_lexer": "ipython3",
   "version": "3.7.1"
  }
 },
 "nbformat": 4,
 "nbformat_minor": 2
}
