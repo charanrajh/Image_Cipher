{
 "cells": [
  {
   "cell_type": "code",
   "execution_count": 25,
   "metadata": {},
   "outputs": [
    {
     "name": "stdout",
     "output_type": "stream",
     "text": [
      "Enter the path of the image:school_cipher.png\n",
      "Enter decryption key:lalap@189\n",
      "Hello there! I'm currently on my internship period\n"
     ]
    }
   ],
   "source": [
    "from PIL import Image\n",
    "#from itertools import izip\n",
    "import hashlib\n",
    "import base64\n",
    "\n",
    "from Crypto import Random\n",
    "from Crypto.Cipher import AES\n",
    "\n",
    "def get_pixel_pairs(iterable):\n",
    "    a = iter(iterable)\n",
    "    return zip(a, a)\n",
    "\n",
    "\n",
    "def get_LSB(value):\n",
    "    if value & 1 == 0:\n",
    "        return '0'\n",
    "    else:\n",
    "        return '1'\n",
    "\n",
    "def extract_message(carrier):\n",
    "    c_image = Image.open(carrier)\n",
    "    pixel_list = list(c_image.getdata())\n",
    "    message = \"\"\n",
    "\n",
    "    for pix1, pix2 in get_pixel_pairs(pixel_list):\n",
    "        message_byte = \"0b\"\n",
    "        for p in pix1:\n",
    "            message_byte += get_LSB(p)\n",
    "\n",
    "        for p in pix2:\n",
    "            message_byte += get_LSB(p)\n",
    "\n",
    "        if message_byte == \"0b00000000\":\n",
    "            break\n",
    "\n",
    "        message += chr(int(message_byte,2))\n",
    "    return message\n",
    "\n",
    "def unpad(s):\n",
    "    return s[0:-s[-1]]\n",
    "class AESCipher:\n",
    "\n",
    "    def __init__( self, key ):\n",
    "        self.bs = 32\n",
    "        self.key = hashlib.sha256(key.encode()).digest()\n",
    "\n",
    "    def decrypt( self, enc ):\n",
    "        enc = base64.b64decode(enc)\n",
    "        iv = enc[:16]\n",
    "        cipher = AES.new(self.key, AES.MODE_CBC, iv )\n",
    "        return unpad(cipher.decrypt( enc[16:] ))\n",
    "\n",
    "\n",
    "def main():\n",
    "    img_path = input(\"Enter the path of the image:\")\n",
    "    decryp_key = input(\"Enter decryption key:\")\n",
    "    try:\n",
    "        cipher = AESCipher(decryp_key)\n",
    "        encryp_msg = extract_message(img_path)\n",
    "        encry = bytes(encryp_msg[2:len(encryp_msg)-1],'utf-8')\n",
    "        decrypted = cipher.decrypt(encry)\n",
    "        decr_str = decrypted.decode(\"utf-8\")\n",
    "        print(decr_str)\n",
    "    except:\n",
    "        print(\"Please check your entries again\")\n",
    "    \n",
    "    \n",
    "main()"
   ]
  },
  {
   "cell_type": "code",
   "execution_count": null,
   "metadata": {},
   "outputs": [],
   "source": []
  }
 ],
 "metadata": {
  "kernelspec": {
   "display_name": "Python 3",
   "language": "python",
   "name": "python3"
  },
  "language_info": {
   "codemirror_mode": {
    "name": "ipython",
    "version": 3
   },
   "file_extension": ".py",
   "mimetype": "text/x-python",
   "name": "python",
   "nbconvert_exporter": "python",
   "pygments_lexer": "ipython3",
   "version": "3.7.1"
  }
 },
 "nbformat": 4,
 "nbformat_minor": 2
}
